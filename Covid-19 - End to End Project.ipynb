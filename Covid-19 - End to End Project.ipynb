{
 "cells": [
  {
   "cell_type": "markdown",
   "metadata": {},
   "source": [
    "Dataset used: COVID-19 Data Lake - https://registry.opendata.aws/aws-covid19-lake/\n",
    "Tutorial: COVID 19 - Build End to End Data Engineering Project | PART 1 - https://www.youtube.com/watch?v=gFWu-SSzRzc&t=464s"
   ]
  },
  {
   "cell_type": "code",
   "execution_count": 1,
   "metadata": {},
   "outputs": [],
   "source": [
    "#%pip install --user boto3\n",
    "#%pip install --user awscli"
   ]
  },
  {
   "cell_type": "code",
   "execution_count": 10,
   "metadata": {},
   "outputs": [],
   "source": [
    "import boto3\n",
    "import pandas as pd\n",
    "import psycopg2 \n",
    "import json\n",
    "import os\n",
    "import configparser\n",
    "import pprint\n",
    "from botocore.client import ClientError\n",
    "import subprocess\n",
    "import time"
   ]
  },
  {
   "cell_type": "code",
   "execution_count": 11,
   "metadata": {},
   "outputs": [],
   "source": [
    "config = configparser.ConfigParser()\n",
    "config.read_file(open('cluster.config'))"
   ]
  },
  {
   "cell_type": "code",
   "execution_count": 12,
   "metadata": {},
   "outputs": [],
   "source": [
    "AWS_KEY = os.environ.get('AWS_KEY')\n",
    "AWS_SECRET = os.environ.get('AWS_SECRET')\n",
    "AWS_REGION = config.get(\"AWS\",\"AWS_REGION\")\n",
    "\n",
    "S3_BUCKET_NAME = config.get(\"S3\",\"S3_BUCKET_NAME\")\n",
    "S3_ACL = config.get(\"S3\",\"S3_ACL\")\n",
    "S3_LOCATION = config.get(\"S3\",\"S3_LOCATION\")\n",
    "\n",
    "CRAWLER_DATABASE_NAME = config.get(\"CRAWLER\",\"CRAWLER_DATABASE_NAME\")\n",
    "CRAWLER_ROLE = config.get(\"CRAWLER\",\"CRAWLER_ROLE\")\n",
    "CRAWLER_OUTPUT = config.get(\"CRAWLER\",\"CRAWLER_OUTPUT\")"
   ]
  },
  {
   "cell_type": "markdown",
   "metadata": {},
   "source": [
    "1st Step - Create S3 Bucket using Python"
   ]
  },
  {
   "cell_type": "code",
   "execution_count": 17,
   "metadata": {},
   "outputs": [
    {
     "name": "stdout",
     "output_type": "stream",
     "text": [
      "The bucket does no exist or you have no access\n"
     ]
    }
   ],
   "source": [
    "s3_client = boto3.client('s3', \n",
    "                aws_access_key_id=AWS_KEY,\n",
    "                aws_secret_access_key=AWS_SECRET,\n",
    "                region_name=AWS_REGION)\n",
    "\n",
    "try:\n",
    "    s3_client.head_bucket(Bucket=S3_BUCKET_NAME)\n",
    "    bucket_exists = 'Yes'\n",
    "    print(\"The bucket exists\")\n",
    "except ClientError:\n",
    "    bucket_exists = 'No'\n",
    "    print(\"The bucket does no exist or you have no access\")"
   ]
  },
  {
   "cell_type": "code",
   "execution_count": 18,
   "metadata": {},
   "outputs": [
    {
     "name": "stdout",
     "output_type": "stream",
     "text": [
      "{'Location': 'http://hfelipini-covid19-crawler-output.s3.amazonaws.com/',\n",
      " 'ResponseMetadata': {'HTTPHeaders': {'content-length': '0',\n",
      "                                      'date': 'Sun, 11 Dec 2022 19:03:47 GMT',\n",
      "                                      'location': 'http://hfelipini-covid19-crawler-output.s3.amazonaws.com/',\n",
      "                                      'server': 'AmazonS3',\n",
      "                                      'x-amz-id-2': '9N4bvYonvfduXfYQiiyF/AupxIrCUTkXMcFs2ilieq8XViw4AyYMEEHEMuG8/6q2ucUu+5Qq0h0=',\n",
      "                                      'x-amz-request-id': 'XWEXR5QG2STKNWX1'},\n",
      "                      'HTTPStatusCode': 200,\n",
      "                      'HostId': '9N4bvYonvfduXfYQiiyF/AupxIrCUTkXMcFs2ilieq8XViw4AyYMEEHEMuG8/6q2ucUu+5Qq0h0=',\n",
      "                      'RequestId': 'XWEXR5QG2STKNWX1',\n",
      "                      'RetryAttempts': 0}}\n",
      "None\n"
     ]
    }
   ],
   "source": [
    "try:\n",
    "    if bucket_exists == 'No':\n",
    "        create_bucket = s3_client.create_bucket(Bucket=S3_BUCKET_NAME, \n",
    "                    ACL=S3_ACL, \n",
    "                    CreateBucketConfiguration = {'LocationConstraint': S3_LOCATION})\n",
    "        print(pprint.pprint(create_bucket))\n",
    "except ClientError as e:\n",
    "    print(e)"
   ]
  },
  {
   "attachments": {},
   "cell_type": "markdown",
   "metadata": {},
   "source": [
    "2st Step - Copy Dataset into the created Bucket\n",
    "Dataset chosen: https://registry.opendata.aws/aws-covid19-lake/"
   ]
  },
  {
   "cell_type": "code",
   "execution_count": 15,
   "metadata": {},
   "outputs": [
    {
     "data": {
      "text/html": [
       "<div>\n",
       "<style scoped>\n",
       "    .dataframe tbody tr th:only-of-type {\n",
       "        vertical-align: middle;\n",
       "    }\n",
       "\n",
       "    .dataframe tbody tr th {\n",
       "        vertical-align: top;\n",
       "    }\n",
       "\n",
       "    .dataframe thead th {\n",
       "        text-align: right;\n",
       "    }\n",
       "</style>\n",
       "<table border=\"1\" class=\"dataframe\">\n",
       "  <thead>\n",
       "    <tr style=\"text-align: right;\">\n",
       "      <th></th>\n",
       "      <th>0</th>\n",
       "      <th>1</th>\n",
       "      <th>2</th>\n",
       "      <th>3</th>\n",
       "    </tr>\n",
       "  </thead>\n",
       "  <tbody>\n",
       "    <tr>\n",
       "      <th>0</th>\n",
       "      <td>covid19-lake</td>\n",
       "      <td>enigma-jhu/csv/Enigma-JHU.csv.gz</td>\n",
       "      <td>enigma-jhu/</td>\n",
       "      <td>enigma-jhu</td>\n",
       "    </tr>\n",
       "    <tr>\n",
       "      <th>1</th>\n",
       "      <td>covid19-lake</td>\n",
       "      <td>enigma-nytimes-data-in-usa/csv/us_county/us_co...</td>\n",
       "      <td>enigma-nytimes-data-in-usa/csv/us_county/</td>\n",
       "      <td>us_county</td>\n",
       "    </tr>\n",
       "    <tr>\n",
       "      <th>2</th>\n",
       "      <td>covid19-lake</td>\n",
       "      <td>enigma-nytimes-data-in-usa/csv/us_states/us_st...</td>\n",
       "      <td>enigma-nytimes-data-in-usa/csv/us_states/</td>\n",
       "      <td>us_states</td>\n",
       "    </tr>\n",
       "    <tr>\n",
       "      <th>3</th>\n",
       "      <td>covid19-lake</td>\n",
       "      <td>rearc-covid-19-testing-data/csv/states_daily/s...</td>\n",
       "      <td>rearc-covid-19-testing-data/csv/states_daily/</td>\n",
       "      <td>states_daily</td>\n",
       "    </tr>\n",
       "    <tr>\n",
       "      <th>4</th>\n",
       "      <td>covid19-lake</td>\n",
       "      <td>rearc-covid-19-testing-data/csv/us-total-lates...</td>\n",
       "      <td>rearc-covid-19-testing-data/csv/us-total-latest/</td>\n",
       "      <td>us-total-latest</td>\n",
       "    </tr>\n",
       "    <tr>\n",
       "      <th>5</th>\n",
       "      <td>covid19-lake</td>\n",
       "      <td>rearc-covid-19-testing-data/csv/us_daily/us_da...</td>\n",
       "      <td>rearc-covid-19-testing-data/csv/us_daily/</td>\n",
       "      <td>us_daily</td>\n",
       "    </tr>\n",
       "    <tr>\n",
       "      <th>6</th>\n",
       "      <td>covid19-lake</td>\n",
       "      <td>rearc-usa-hospital-beds/json/usa-hospital-beds...</td>\n",
       "      <td>rearc-usa-hospital-beds/</td>\n",
       "      <td>rearc-usa-hospital-beds</td>\n",
       "    </tr>\n",
       "    <tr>\n",
       "      <th>7</th>\n",
       "      <td>covid19-lake</td>\n",
       "      <td>static-datasets/csv/countrycode/CountryCodeQS.csv</td>\n",
       "      <td>static-datasets/csv/countrycode/</td>\n",
       "      <td>countrycode</td>\n",
       "    </tr>\n",
       "    <tr>\n",
       "      <th>8</th>\n",
       "      <td>covid19-lake</td>\n",
       "      <td>static-datasets/csv/CountyPopulation/County_Po...</td>\n",
       "      <td>static-datasets/csv/CountyPopulation/</td>\n",
       "      <td>CountyPopulation</td>\n",
       "    </tr>\n",
       "    <tr>\n",
       "      <th>9</th>\n",
       "      <td>covid19-lake</td>\n",
       "      <td>static-datasets/csv/state-abv/states_abv.csv</td>\n",
       "      <td>static-datasets/csv/state-abv/</td>\n",
       "      <td>state-abv</td>\n",
       "    </tr>\n",
       "  </tbody>\n",
       "</table>\n",
       "</div>"
      ],
      "text/plain": [
       "              0                                                  1  \\\n",
       "0  covid19-lake                   enigma-jhu/csv/Enigma-JHU.csv.gz   \n",
       "1  covid19-lake  enigma-nytimes-data-in-usa/csv/us_county/us_co...   \n",
       "2  covid19-lake  enigma-nytimes-data-in-usa/csv/us_states/us_st...   \n",
       "3  covid19-lake  rearc-covid-19-testing-data/csv/states_daily/s...   \n",
       "4  covid19-lake  rearc-covid-19-testing-data/csv/us-total-lates...   \n",
       "5  covid19-lake  rearc-covid-19-testing-data/csv/us_daily/us_da...   \n",
       "6  covid19-lake  rearc-usa-hospital-beds/json/usa-hospital-beds...   \n",
       "7  covid19-lake  static-datasets/csv/countrycode/CountryCodeQS.csv   \n",
       "8  covid19-lake  static-datasets/csv/CountyPopulation/County_Po...   \n",
       "9  covid19-lake       static-datasets/csv/state-abv/states_abv.csv   \n",
       "\n",
       "                                                  2                        3  \n",
       "0                                       enigma-jhu/               enigma-jhu  \n",
       "1         enigma-nytimes-data-in-usa/csv/us_county/                us_county  \n",
       "2         enigma-nytimes-data-in-usa/csv/us_states/                us_states  \n",
       "3     rearc-covid-19-testing-data/csv/states_daily/             states_daily  \n",
       "4  rearc-covid-19-testing-data/csv/us-total-latest/          us-total-latest  \n",
       "5         rearc-covid-19-testing-data/csv/us_daily/                 us_daily  \n",
       "6                          rearc-usa-hospital-beds/  rearc-usa-hospital-beds  \n",
       "7                  static-datasets/csv/countrycode/              countrycode  \n",
       "8             static-datasets/csv/CountyPopulation/         CountyPopulation  \n",
       "9                    static-datasets/csv/state-abv/                state-abv  "
      ]
     },
     "execution_count": 15,
     "metadata": {},
     "output_type": "execute_result"
    }
   ],
   "source": [
    "InfosToCopy = pd.read_csv('dataInfosCopy.csv', delimiter=\";\", header=None)\n",
    "InfosToCopy.head(10)"
   ]
  },
  {
   "attachments": {},
   "cell_type": "markdown",
   "metadata": {},
   "source": [
    "Copy the specific data from the open data set into the S3 Bucket with the folders path"
   ]
  },
  {
   "cell_type": "code",
   "execution_count": 8,
   "metadata": {},
   "outputs": [
    {
     "name": "stdout",
     "output_type": "stream",
     "text": [
      "0 - enigma-jhu/csv/Enigma-JHU.csv.gz - Dowloaded\n",
      "1 - enigma-nytimes-data-in-usa/csv/us_county/us_county.csv - Dowloaded\n",
      "2 - enigma-nytimes-data-in-usa/csv/us_states/us_states.csv - Dowloaded\n",
      "3 - rearc-covid-19-testing-data/csv/states_daily/states_daily.csv - Dowloaded\n",
      "4 - rearc-covid-19-testing-data/csv/us-total-latest/us.csv - Dowloaded\n",
      "5 - rearc-covid-19-testing-data/csv/us_daily/us_daily.csv - Dowloaded\n",
      "6 - rearc-usa-hospital-beds/json/usa-hospital-beds.geojson - Dowloaded\n",
      "7 - static-datasets/csv/countrycode/CountryCodeQS.csv - Dowloaded\n",
      "8 - static-datasets/csv/CountyPopulation/County_Population.csv - Dowloaded\n",
      "9 - static-datasets/csv/state-abv/states_abv.csv - Dowloaded\n"
     ]
    }
   ],
   "source": [
    "s3_resource = boto3.resource('s3', \n",
    "                aws_access_key_id=AWS_KEY,\n",
    "                aws_secret_access_key=AWS_SECRET)\n",
    "\n",
    "for position in range(len(InfosToCopy)):\n",
    "    s3_resource.Bucket(S3_BUCKET_NAME).copy({\"Bucket\": InfosToCopy.iat[position,0], \"Key\": InfosToCopy.iat[position,1]}, InfosToCopy.iat[position,1])\n",
    "    print(position, \"-\", InfosToCopy.iat[position,1], \"- Dowloaded\")"
   ]
  },
  {
   "attachments": {},
   "cell_type": "markdown",
   "metadata": {},
   "source": [
    "https://github.com/oovk/dataengg-covid19-aws/blob/main/covid19_project.ipynb"
   ]
  },
  {
   "attachments": {},
   "cell_type": "markdown",
   "metadata": {},
   "source": [
    "3rd Step - Set-up the Data Crawler to understand the Data, how many columns and rows.\n",
    "Understand the data to, then, build the data model."
   ]
  },
  {
   "cell_type": "code",
   "execution_count": 19,
   "metadata": {},
   "outputs": [],
   "source": [
    "#https://gist.github.com/ejlp12/30d67c07bf9e46b98a350569976f08aa\n",
    "glue_client = boto3.client('glue', \n",
    "                aws_access_key_id=AWS_KEY,\n",
    "                aws_secret_access_key=AWS_SECRET,\n",
    "                region_name=AWS_REGION)\n",
    "\n",
    "for position in range(len(InfosToCopy)):\n",
    "    CrawlerName = InfosToCopy.iat[position,3] + \"_crawler\"\n",
    "    CrawlerPath = \"s3://\" + S3_BUCKET_NAME + \"/\" + InfosToCopy.iat[position,2]\n",
    "    \n",
    "    CrawlerCreation = glue_client.create_crawler(\n",
    "        Name=CrawlerName,\n",
    "        Role=CRAWLER_ROLE,\n",
    "        DatabaseName=CRAWLER_DATABASE_NAME,\n",
    "        Description='Crawler for generated CovidSchema',\n",
    "        Targets={\n",
    "            'S3Targets': [\n",
    "                {\n",
    "                    'Path': CrawlerPath,\n",
    "                    'Exclusions': [\n",
    "                    ]\n",
    "                },\n",
    "            ]\n",
    "        },\n",
    "        SchemaChangePolicy={\n",
    "            'UpdateBehavior': 'UPDATE_IN_DATABASE',\n",
    "            'DeleteBehavior': 'DELETE_FROM_DATABASE'\n",
    "        }\n",
    "    )\n",
    "\n",
    "    CrawlerStart = glue_client.start_crawler(\n",
    "        Name=CrawlerName\n",
    "    )\n",
    "    "
   ]
  },
  {
   "cell_type": "code",
   "execution_count": null,
   "metadata": {},
   "outputs": [],
   "source": []
  }
 ],
 "metadata": {
  "kernelspec": {
   "display_name": "Python 3.10.2 64-bit",
   "language": "python",
   "name": "python3"
  },
  "language_info": {
   "codemirror_mode": {
    "name": "ipython",
    "version": 3
   },
   "file_extension": ".py",
   "mimetype": "text/x-python",
   "name": "python",
   "nbconvert_exporter": "python",
   "pygments_lexer": "ipython3",
   "version": "3.10.2"
  },
  "orig_nbformat": 4,
  "vscode": {
   "interpreter": {
    "hash": "369f2c481f4da34e4445cda3fffd2e751bd1c4d706f27375911949ba6bb62e1c"
   }
  }
 },
 "nbformat": 4,
 "nbformat_minor": 2
}
