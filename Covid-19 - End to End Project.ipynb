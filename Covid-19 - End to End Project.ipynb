{
 "cells": [
  {
   "cell_type": "markdown",
   "metadata": {},
   "source": [
    "Dataset used: COVID-19 Data Lake - https://registry.opendata.aws/aws-covid19-lake/\n",
    "Tutorial: COVID 19 - Build End to End Data Engineering Project | PART 1 - https://www.youtube.com/watch?v=gFWu-SSzRzc&t=464s"
   ]
  },
  {
   "cell_type": "code",
   "execution_count": 9,
   "metadata": {},
   "outputs": [],
   "source": [
    "#%pip install boto3 --user"
   ]
  },
  {
   "cell_type": "code",
   "execution_count": 18,
   "metadata": {},
   "outputs": [],
   "source": [
    "import boto3\n",
    "import pandas as pd\n",
    "import psycopg2 \n",
    "import json\n",
    "import os\n",
    "import configparser\n",
    "import pprint\n",
    "from botocore.client import ClientError"
   ]
  },
  {
   "cell_type": "code",
   "execution_count": 19,
   "metadata": {},
   "outputs": [],
   "source": [
    "config = configparser.ConfigParser()\n",
    "config.read_file(open('cluster.config'))"
   ]
  },
  {
   "cell_type": "code",
   "execution_count": 20,
   "metadata": {},
   "outputs": [],
   "source": [
    "KEY = os.environ.get('AWS_KEY')\n",
    "SECRET = os.environ.get('AWS_SECRET')"
   ]
  },
  {
   "cell_type": "markdown",
   "metadata": {},
   "source": [
    "1st Step - Create S3 Bucket using Python"
   ]
  },
  {
   "cell_type": "code",
   "execution_count": 40,
   "metadata": {},
   "outputs": [
    {
     "name": "stdout",
     "output_type": "stream",
     "text": [
      "The bucket does no exist or you have no access\n"
     ]
    }
   ],
   "source": [
    "s3 = boto3.client('s3', \n",
    "                aws_access_key_id=KEY,\n",
    "                aws_secret_access_key=SECRET)\n",
    "\n",
    "bucket_name = 'hfelipini-learning-youtube'\n",
    "try:\n",
    "    s3.head_bucket(Bucket=bucket_name)\n",
    "    bucket_exists = 'Yes'\n",
    "    print(\"The bucket exists\")\n",
    "except ClientError:\n",
    "    bucket_exists = 'No'\n",
    "    print(\"The bucket does no exist or you have no access\")\n",
    "\n"
   ]
  },
  {
   "cell_type": "code",
   "execution_count": 41,
   "metadata": {},
   "outputs": [
    {
     "name": "stdout",
     "output_type": "stream",
     "text": [
      "hfelipini-learning-youtube2 bucket has been created on AWS S3\n",
      "{'Location': 'http://hfelipini-learning-youtube2.s3.amazonaws.com/',\n",
      " 'ResponseMetadata': {'HTTPHeaders': {'content-length': '0',\n",
      "                                      'date': 'Fri, 09 Dec 2022 13:59:12 GMT',\n",
      "                                      'location': 'http://hfelipini-learning-youtube2.s3.amazonaws.com/',\n",
      "                                      'server': 'AmazonS3',\n",
      "                                      'x-amz-id-2': 'E6EVF2OHzoBJpHfusew6lD24bQtXWDxdfCGWBnhxvYB8XXbC7jKRoPh4WZ4E4eWW9LABgP1Wh3I=',\n",
      "                                      'x-amz-request-id': '3DAJ5118W3XQ0T20'},\n",
      "                      'HTTPStatusCode': 200,\n",
      "                      'HostId': 'E6EVF2OHzoBJpHfusew6lD24bQtXWDxdfCGWBnhxvYB8XXbC7jKRoPh4WZ4E4eWW9LABgP1Wh3I=',\n",
      "                      'RequestId': '3DAJ5118W3XQ0T20',\n",
      "                      'RetryAttempts': 0}}\n",
      "None\n"
     ]
    }
   ],
   "source": [
    "try:\n",
    "    if bucket_exists == 'No':\n",
    "        location = {'LocationConstraint': 'sa-east-1'}\n",
    "        create_bucket = s3.create_bucket(Bucket=bucket_name, \n",
    "                    ACL='private', \n",
    "                    CreateBucketConfiguration = location)\n",
    "        print(bucket_name,\"bucket has been created on AWS S3\")\n",
    "except ClientError as e:\n",
    "    print(e)\n",
    "\n",
    "print(pprint.pprint(create_bucket))"
   ]
  },
  {
   "attachments": {},
   "cell_type": "markdown",
   "metadata": {},
   "source": [
    "2st Step - Copy Dataset into the created Bucket\n",
    "Dataset chosen: https://registry.opendata.aws/aws-covid19-lake/"
   ]
  }
 ],
 "metadata": {
  "kernelspec": {
   "display_name": "Python 3.10.2 64-bit",
   "language": "python",
   "name": "python3"
  },
  "language_info": {
   "codemirror_mode": {
    "name": "ipython",
    "version": 3
   },
   "file_extension": ".py",
   "mimetype": "text/x-python",
   "name": "python",
   "nbconvert_exporter": "python",
   "pygments_lexer": "ipython3",
   "version": "3.10.2"
  },
  "orig_nbformat": 4,
  "vscode": {
   "interpreter": {
    "hash": "369f2c481f4da34e4445cda3fffd2e751bd1c4d706f27375911949ba6bb62e1c"
   }
  }
 },
 "nbformat": 4,
 "nbformat_minor": 2
}
