{
 "cells": [
  {
   "cell_type": "markdown",
   "metadata": {},
   "source": [
    "Dataset used: COVID-19 Data Lake - https://registry.opendata.aws/aws-covid19-lake/\n",
    "Tutorial: COVID 19 - Build End to End Data Engineering Project | PART 1 - https://www.youtube.com/watch?v=gFWu-SSzRzc&t=464s"
   ]
  },
  {
   "cell_type": "code",
   "execution_count": 1,
   "metadata": {},
   "outputs": [],
   "source": [
    "#%pip install --user boto3\n",
    "#%pip install --user awscli"
   ]
  },
  {
   "cell_type": "code",
   "execution_count": 21,
   "metadata": {},
   "outputs": [],
   "source": [
    "import boto3\n",
    "import pandas as pd\n",
    "import psycopg2 \n",
    "import json\n",
    "import os\n",
    "import configparser\n",
    "import pprint\n",
    "from botocore.client import ClientError\n",
    "import subprocess\n",
    "import time"
   ]
  },
  {
   "cell_type": "code",
   "execution_count": 22,
   "metadata": {},
   "outputs": [],
   "source": [
    "config = configparser.ConfigParser()\n",
    "config.read_file(open('cluster.config'))"
   ]
  },
  {
   "cell_type": "code",
   "execution_count": 23,
   "metadata": {},
   "outputs": [],
   "source": [
    "AWS_KEY = os.environ.get('AWS_KEY')\n",
    "AWS_SECRET = os.environ.get('AWS_SECRET')\n",
    "AWS_REGION = config.get(\"AWS\",\"AWS_REGION\")\n",
    "\n",
    "S3_BUCKET_NAME = config.get(\"S3\",\"S3_BUCKET_NAME\")\n",
    "S3_ACL = config.get(\"S3\",\"S3_ACL\")\n",
    "S3_LOCATION = config.get(\"S3\",\"S3_LOCATION\")"
   ]
  },
  {
   "cell_type": "markdown",
   "metadata": {},
   "source": [
    "1st Step - Create S3 Bucket using Python"
   ]
  },
  {
   "cell_type": "code",
   "execution_count": 24,
   "metadata": {},
   "outputs": [
    {
     "name": "stdout",
     "output_type": "stream",
     "text": [
      "The bucket does no exist or you have no access\n"
     ]
    }
   ],
   "source": [
    "s3 = boto3.client('s3', \n",
    "                aws_access_key_id=AWS_KEY,\n",
    "                aws_secret_access_key=AWS_SECRET,\n",
    "                region_name=AWS_REGION)\n",
    "\n",
    "try:\n",
    "    s3.head_bucket(Bucket=S3_BUCKET_NAME)\n",
    "    bucket_exists = 'Yes'\n",
    "    print(\"The bucket exists\")\n",
    "except ClientError:\n",
    "    bucket_exists = 'No'\n",
    "    print(\"The bucket does no exist or you have no access\")"
   ]
  },
  {
   "cell_type": "code",
   "execution_count": 25,
   "metadata": {},
   "outputs": [
    {
     "name": "stdout",
     "output_type": "stream",
     "text": [
      "{'Location': 'http://hfelipini-covid19-project.s3.amazonaws.com/',\n",
      " 'ResponseMetadata': {'HTTPHeaders': {'content-length': '0',\n",
      "                                      'date': 'Sat, 10 Dec 2022 20:36:08 GMT',\n",
      "                                      'location': 'http://hfelipini-covid19-project.s3.amazonaws.com/',\n",
      "                                      'server': 'AmazonS3',\n",
      "                                      'x-amz-id-2': 'iD2rA4QIxwz9cx8piWg3NN9Y52ExBp/wFeOsqmypQwGZrwh2yQTl2iXR7aG+N1v5Tp9pU8wKiIcTaiWkYJI1LA==',\n",
      "                                      'x-amz-request-id': 'P8JN1VAKQNR7TWSY'},\n",
      "                      'HTTPStatusCode': 200,\n",
      "                      'HostId': 'iD2rA4QIxwz9cx8piWg3NN9Y52ExBp/wFeOsqmypQwGZrwh2yQTl2iXR7aG+N1v5Tp9pU8wKiIcTaiWkYJI1LA==',\n",
      "                      'RequestId': 'P8JN1VAKQNR7TWSY',\n",
      "                      'RetryAttempts': 0}}\n",
      "None\n"
     ]
    }
   ],
   "source": [
    "try:\n",
    "    if bucket_exists == 'No':\n",
    "        create_bucket = s3.create_bucket(Bucket=S3_BUCKET_NAME, \n",
    "                    ACL=S3_ACL, \n",
    "                    CreateBucketConfiguration = {'LocationConstraint': S3_LOCATION})\n",
    "        print(pprint.pprint(create_bucket))\n",
    "except ClientError as e:\n",
    "    print(e)"
   ]
  },
  {
   "attachments": {},
   "cell_type": "markdown",
   "metadata": {},
   "source": [
    "2st Step - Copy Dataset into the created Bucket\n",
    "Dataset chosen: https://registry.opendata.aws/aws-covid19-lake/"
   ]
  },
  {
   "cell_type": "code",
   "execution_count": 38,
   "metadata": {},
   "outputs": [],
   "source": [
    "s3 = boto3.resource('s3', \n",
    "                aws_access_key_id=AWS_KEY,\n",
    "                aws_secret_access_key=AWS_SECRET)\n",
    "\n",
    "s3.Bucket(S3_BUCKET_NAME).copy({\"Bucket\": 'covid19-lake', \"Key\": 'enigma-jhu/csv/Enigma-JHU.csv.gz'}, \"Enigma-JHU.csv.gz\")\n",
    "s3.Bucket(S3_BUCKET_NAME).copy({\"Bucket\": 'covid19-lake', \"Key\": 'enigma-nytimes-data-in-usa/csv/us_county/us_county.csv'}, \"us_county.csv\")\n",
    "s3.Bucket(S3_BUCKET_NAME).copy({\"Bucket\": 'covid19-lake', \"Key\": 'enigma-nytimes-data-in-usa/csv/us_states/us_states.csv'}, \"us_states.csv\")\n",
    "s3.Bucket(S3_BUCKET_NAME).copy({\"Bucket\": 'covid19-lake', \"Key\": 'rearc-covid-19-testing-data/csv/states_daily/states_daily.csv'}, \"states_daily.csv\")\n",
    "s3.Bucket(S3_BUCKET_NAME).copy({\"Bucket\": 'covid19-lake', \"Key\": 'rearc-covid-19-testing-data/csv/us-total-latest/us.csv'}, \"us.csv\")\n",
    "s3.Bucket(S3_BUCKET_NAME).copy({\"Bucket\": 'covid19-lake', \"Key\": 'rearc-covid-19-testing-data/csv/us_daily/us_daily.csv'}, \"us_daily.csv\")\n",
    "s3.Bucket(S3_BUCKET_NAME).copy({\"Bucket\": 'covid19-lake', \"Key\": 'rearc-usa-hospital-beds/json/usa-hospital-beds.geojson'}, \"usa-hospital-beds.geojson\")\n",
    "s3.Bucket(S3_BUCKET_NAME).copy({\"Bucket\": 'covid19-lake', \"Key\": 'static-datasets/csv/countrycode/CountryCodeQS.csv'}, \"CountryCodeQS.csv\")\n",
    "s3.Bucket(S3_BUCKET_NAME).copy({\"Bucket\": 'covid19-lake', \"Key\": 'static-datasets/csv/CountyPopulation/County_Population.csv'}, \"County_Population.csv\")\n",
    "s3.Bucket(S3_BUCKET_NAME).copy({\"Bucket\": 'covid19-lake', \"Key\": 'static-datasets/csv/state-abv/states_abv.csv'}, \"states_abv.csv\")"
   ]
  },
  {
   "attachments": {},
   "cell_type": "markdown",
   "metadata": {},
   "source": [
    "https://github.com/oovk/dataengg-covid19-aws/blob/main/covid19_project.ipynb"
   ]
  }
 ],
 "metadata": {
  "kernelspec": {
   "display_name": "Python 3.10.2 64-bit",
   "language": "python",
   "name": "python3"
  },
  "language_info": {
   "codemirror_mode": {
    "name": "ipython",
    "version": 3
   },
   "file_extension": ".py",
   "mimetype": "text/x-python",
   "name": "python",
   "nbconvert_exporter": "python",
   "pygments_lexer": "ipython3",
   "version": "3.10.2"
  },
  "orig_nbformat": 4,
  "vscode": {
   "interpreter": {
    "hash": "369f2c481f4da34e4445cda3fffd2e751bd1c4d706f27375911949ba6bb62e1c"
   }
  }
 },
 "nbformat": 4,
 "nbformat_minor": 2
}
